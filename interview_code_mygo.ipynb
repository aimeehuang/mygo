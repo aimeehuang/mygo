{
 "cells": [
  {
   "cell_type": "markdown",
   "metadata": {},
   "source": [
    "# mygo interview question"
   ]
  },
  {
   "cell_type": "code",
   "execution_count": 42,
   "metadata": {},
   "outputs": [],
   "source": [
    "input_value = {\n",
    "  'hired': {\n",
    "    'be': {\n",
    "      'to': {\n",
    "        'deserve': 'I'\n",
    "      }\n",
    "    }\n",
    "  }\n",
    "}"
   ]
  },
  {
   "cell_type": "code",
   "execution_count": 43,
   "metadata": {},
   "outputs": [],
   "source": [
    "def reverse_dict(dic, next_value = {}):\n",
    "    \n",
    "    current_key = list(dic.keys())[0]\n",
    "    next_key =  list(list(dic.values())[0].keys())[0]\n",
    "    next_dic =  list(list(dic.values())[0].values())[0]\n",
    "    \n",
    "    if len(next_value) == 0:  \n",
    "        next_value[next_key] = current_key\n",
    "        return reverse_dict(next_dic, next_value)\n",
    "    \n",
    "    elif type(next_dic) is not dict:\n",
    "        tmp_dic = {}\n",
    "        tmp_dic1={}\n",
    "        tmp_dic2={}\n",
    "        tmp_dic[current_key] = next_value\n",
    "        tmp_dic1[next_key] = tmp_dic\n",
    "        tmp_dic2[next_dic] = tmp_dic1\n",
    "        return(tmp_dic2)\n",
    "    \n",
    "    else:\n",
    "        tmp_dic = {}\n",
    "        tmp_dic[current_key] = next_value\n",
    "        return reverse_dict(next_dic, tmp_dic)\n"
   ]
  },
  {
   "cell_type": "code",
   "execution_count": 44,
   "metadata": {},
   "outputs": [
    {
     "name": "stdout",
     "output_type": "stream",
     "text": [
      "{'I': {'deserve': {'to': {'be': 'hired'}}}}\n"
     ]
    }
   ],
   "source": [
    "print(reverse_dict(input_value))"
   ]
  }
 ],
 "metadata": {
  "kernelspec": {
   "display_name": "Python 3",
   "language": "python",
   "name": "python3"
  },
  "language_info": {
   "codemirror_mode": {
    "name": "ipython",
    "version": 3
   },
   "file_extension": ".py",
   "mimetype": "text/x-python",
   "name": "python",
   "nbconvert_exporter": "python",
   "pygments_lexer": "ipython3",
   "version": "3.7.4"
  }
 },
 "nbformat": 4,
 "nbformat_minor": 4
}
